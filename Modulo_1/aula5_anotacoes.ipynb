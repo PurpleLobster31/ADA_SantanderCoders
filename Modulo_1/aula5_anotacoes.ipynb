{
 "cells": [
  {
   "cell_type": "markdown",
   "metadata": {},
   "source": [
    "# Programação Funcional"
   ]
  },
  {
   "cell_type": "markdown",
   "metadata": {},
   "source": [
    "## Map\n",
    "\n",
    "Aplica uma função em cada elemento de uma lista."
   ]
  },
  {
   "cell_type": "code",
   "execution_count": 1,
   "metadata": {},
   "outputs": [],
   "source": [
    "def quadrado(s):\n",
    "    return(s**2)"
   ]
  },
  {
   "cell_type": "code",
   "execution_count": 2,
   "metadata": {},
   "outputs": [
    {
     "name": "stdout",
     "output_type": "stream",
     "text": [
      "<map object at 0x000001E935A3D840>\n"
     ]
    }
   ],
   "source": [
    "m = map(quadrado, [1,2,3,4])\n",
    "print(m)"
   ]
  },
  {
   "cell_type": "markdown",
   "metadata": {},
   "source": [
    "O map devolve um objeto do tipo map. Para obter o resultado, é necessário converter o map no formato desejado."
   ]
  },
  {
   "cell_type": "code",
   "execution_count": 3,
   "metadata": {},
   "outputs": [
    {
     "name": "stdout",
     "output_type": "stream",
     "text": [
      "[1, 4, 9, 16]\n"
     ]
    }
   ],
   "source": [
    "quadrado = list(map(quadrado, [1,2,3,4]))\n",
    "print(quadrado)"
   ]
  },
  {
   "cell_type": "code",
   "execution_count": 4,
   "metadata": {},
   "outputs": [],
   "source": [
    "pessoas = {'Miguel': 6, 'Sophia': 6, 'Davi': 4, 'Alice': 5, 'Arthur': 6, 'Julia': 5, 'Pedro': 5, 'Isabella': 8, 'Gabriel': 7, 'Manuela': 7, 'Laura': 5}"
   ]
  },
  {
   "cell_type": "code",
   "execution_count": 8,
   "metadata": {},
   "outputs": [],
   "source": [
    "notas = {\n",
    "    'turma_a': {\n",
    "        'aluno1': [9., 8., 10.],\n",
    "        'aluno2': [10., 9., 9.]\n",
    "    },\n",
    "    'turma_b': {\n",
    "        'aluno1': [8., 9., 10.],\n",
    "        'aluno2': [10., 10., 10.]\n",
    "    }\n",
    "}"
   ]
  },
  {
   "cell_type": "code",
   "execution_count": 9,
   "metadata": {},
   "outputs": [
    {
     "name": "stdout",
     "output_type": "stream",
     "text": [
      "{'turma_a': {'aluno1': 9.0, 'aluno2': 9.333333333333334}, 'turma_b': {'aluno1': 9.0, 'aluno2': 10.0}}\n"
     ]
    }
   ],
   "source": [
    "media = dict(map(lambda turma: (turma, dict(map(lambda aluno: (aluno, sum(notas[turma][aluno])/len(notas[turma][aluno])), notas[turma]))), notas))\n",
    "print(media)"
   ]
  },
  {
   "cell_type": "markdown",
   "metadata": {},
   "source": [
    "## Filter\n",
    "Recebe uma função que deve retornar um booleano e retorna uma coleção. Ela irá conter apenas os elementos da coleção que provocaram valor True na função passada."
   ]
  },
  {
   "cell_type": "code",
   "execution_count": 14,
   "metadata": {},
   "outputs": [
    {
     "name": "stdout",
     "output_type": "stream",
     "text": [
      "[0, 2, 4, 6, 8]\n"
     ]
    }
   ],
   "source": [
    "ls = list(filter(lambda x: x%2==0, range(10)))\n",
    "print(ls)"
   ]
  },
  {
   "cell_type": "markdown",
   "metadata": {},
   "source": [
    "## Reduce\n",
    "Além da função e da coleção, ele receberá também um valor inicial. Ele irá aplicar a função entre o valor inicial e o primeiro valor da coleção. Em seguida, entre o resultado dessa operação e o segundo valor da coleção. Depois, entre o resultado desta operação e o terceiro valor da coleção, e assim sucessivamente. Ou seja, ele acumula uma operação ao longo de uma coleção. O exemplo mais tradicional é o somatório.\n",
    "\n",
    "Se você possui uma lista contendo os valores [1, 3, 5, 7, 9] e utilizar o reduce com valor inicial 0, ele retornará o resultado de:\n",
    "\n",
    "(((((0 + 1) + 3) + 5) + 7) + 9)\n",
    "\n",
    "No Python, o reduce não é uma função nativa como o map e o filter, e devemos importá-la de functools."
   ]
  },
  {
   "cell_type": "code",
   "execution_count": 22,
   "metadata": {},
   "outputs": [
    {
     "name": "stdout",
     "output_type": "stream",
     "text": [
      "45\n"
     ]
    }
   ],
   "source": [
    "from functools import reduce\n",
    "\n",
    "r = reduce(lambda x,y: x+y, range(10), 0)\n",
    "print(r)"
   ]
  },
  {
   "cell_type": "code",
   "execution_count": 24,
   "metadata": {},
   "outputs": [
    {
     "name": "stdout",
     "output_type": "stream",
     "text": [
      "25\n"
     ]
    }
   ],
   "source": [
    "r2 = reduce(lambda x,y: x+y, [1,3,5,7,9], 0)\n",
    "print(r2)"
   ]
  },
  {
   "cell_type": "code",
   "execution_count": 32,
   "metadata": {},
   "outputs": [
    {
     "name": "stdout",
     "output_type": "stream",
     "text": [
      "40320\n"
     ]
    }
   ],
   "source": [
    "x = 8\n",
    "r3  = reduce(lambda x,y: x*y, range(1,x+1))\n",
    "print(r3)"
   ]
  },
  {
   "cell_type": "code",
   "execution_count": null,
   "metadata": {},
   "outputs": [],
   "source": []
  }
 ],
 "metadata": {
  "kernelspec": {
   "display_name": "Python 3",
   "language": "python",
   "name": "python3"
  },
  "language_info": {
   "codemirror_mode": {
    "name": "ipython",
    "version": 3
   },
   "file_extension": ".py",
   "mimetype": "text/x-python",
   "name": "python",
   "nbconvert_exporter": "python",
   "pygments_lexer": "ipython3",
   "version": "3.11.5"
  }
 },
 "nbformat": 4,
 "nbformat_minor": 2
}
