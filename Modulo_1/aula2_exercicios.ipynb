{
 "cells": [
  {
   "cell_type": "markdown",
   "metadata": {},
   "source": [
    "### Exercicio 1.6"
   ]
  },
  {
   "cell_type": "code",
   "execution_count": 1,
   "metadata": {},
   "outputs": [],
   "source": [
    "def conta_palavras(string):\n",
    "    palavras = string.split(',')\n",
    "    dic_contagem = {}\n",
    "    for palavra in palavras:\n",
    "        if palavra in dic_contagem:\n",
    "            dic_contagem[palavra] += 1\n",
    "        else:\n",
    "            dic_contagem[palavra] = 1\n",
    "    \n",
    "    return dic_contagem"
   ]
  },
  {
   "cell_type": "code",
   "execution_count": 6,
   "metadata": {},
   "outputs": [
    {
     "name": "stdout",
     "output_type": "stream",
     "text": [
      "{'ana': 3, 'pedro': 1, 'matheus': 2, 'carlos': 1, 'antonio': 1}\n"
     ]
    }
   ],
   "source": [
    "nomes=\"ana,pedro,ana,matheus,carlos,ana,matheus,antonio\"\n",
    "print(conta_palavras(nomes))"
   ]
  }
 ],
 "metadata": {
  "kernelspec": {
   "display_name": "Python 3",
   "language": "python",
   "name": "python3"
  },
  "language_info": {
   "codemirror_mode": {
    "name": "ipython",
    "version": 3
   },
   "file_extension": ".py",
   "mimetype": "text/x-python",
   "name": "python",
   "nbconvert_exporter": "python",
   "pygments_lexer": "ipython3",
   "version": "3.11.5"
  }
 },
 "nbformat": 4,
 "nbformat_minor": 2
}
