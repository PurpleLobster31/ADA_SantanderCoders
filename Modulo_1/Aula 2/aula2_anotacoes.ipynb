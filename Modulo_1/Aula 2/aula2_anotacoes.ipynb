{
 "cells": [
  {
   "cell_type": "markdown",
   "metadata": {},
   "source": [
    "### Tuplas"
   ]
  },
  {
   "cell_type": "markdown",
   "metadata": {},
   "source": [
    "São imutáveis."
   ]
  },
  {
   "cell_type": "code",
   "execution_count": 7,
   "metadata": {},
   "outputs": [],
   "source": [
    "tp = (23, 'abc', 4.56, (2,3))"
   ]
  },
  {
   "cell_type": "code",
   "execution_count": 9,
   "metadata": {},
   "outputs": [
    {
     "name": "stdout",
     "output_type": "stream",
     "text": [
      "abc\n",
      "3\n"
     ]
    }
   ],
   "source": [
    "print(tp[1])\n",
    "print(tp[-1][1])"
   ]
  },
  {
   "cell_type": "markdown",
   "metadata": {},
   "source": [
    "### Listas"
   ]
  },
  {
   "cell_type": "markdown",
   "metadata": {},
   "source": [
    "É uma estrutura mutável. Pode ser modificada e elementos podem ser adicionados."
   ]
  },
  {
   "cell_type": "code",
   "execution_count": 15,
   "metadata": {},
   "outputs": [],
   "source": [
    "ls = [\"abc\", 34, 4, 6, 9.5]"
   ]
  },
  {
   "cell_type": "code",
   "execution_count": 16,
   "metadata": {},
   "outputs": [
    {
     "name": "stdout",
     "output_type": "stream",
     "text": [
      "4\n"
     ]
    }
   ],
   "source": [
    "print(ls[2])"
   ]
  },
  {
   "cell_type": "code",
   "execution_count": 17,
   "metadata": {},
   "outputs": [],
   "source": [
    "ls[2] = 100"
   ]
  },
  {
   "cell_type": "code",
   "execution_count": 18,
   "metadata": {},
   "outputs": [
    {
     "name": "stdout",
     "output_type": "stream",
     "text": [
      "['abc', 34, 100, 6, 9.5]\n"
     ]
    }
   ],
   "source": [
    "print(ls)"
   ]
  },
  {
   "cell_type": "markdown",
   "metadata": {},
   "source": [
    "#### Funções de listas"
   ]
  },
  {
   "cell_type": "code",
   "execution_count": 30,
   "metadata": {},
   "outputs": [
    {
     "name": "stdout",
     "output_type": "stream",
     "text": [
      "[]\n"
     ]
    }
   ],
   "source": [
    "ls = []\n",
    "print(ls)"
   ]
  },
  {
   "cell_type": "code",
   "execution_count": 31,
   "metadata": {},
   "outputs": [],
   "source": [
    "ls.append(\"primeiro elemento\")\n",
    "ls.append(\"novo elemento no final\")\n",
    "ls.append(\"maca\")\n",
    "ls.append(\"banana\")\n",
    "ls.append(\"abacaxi\")"
   ]
  },
  {
   "cell_type": "code",
   "execution_count": 32,
   "metadata": {},
   "outputs": [
    {
     "name": "stdout",
     "output_type": "stream",
     "text": [
      "['primeiro elemento', 'novo elemento no final', 'maca', 'banana', 'abacaxi']\n"
     ]
    }
   ],
   "source": [
    "print(ls)"
   ]
  },
  {
   "cell_type": "code",
   "execution_count": 33,
   "metadata": {},
   "outputs": [],
   "source": [
    "ls.insert(1, \"uva\")"
   ]
  },
  {
   "cell_type": "code",
   "execution_count": 34,
   "metadata": {},
   "outputs": [
    {
     "name": "stdout",
     "output_type": "stream",
     "text": [
      "['primeiro elemento', 'uva', 'novo elemento no final', 'maca', 'banana', 'abacaxi']\n"
     ]
    }
   ],
   "source": [
    "print(ls)"
   ]
  },
  {
   "cell_type": "markdown",
   "metadata": {},
   "source": [
    "Strings também são estruturas de dados, funcionam como listas."
   ]
  },
  {
   "cell_type": "code",
   "execution_count": 35,
   "metadata": {},
   "outputs": [
    {
     "name": "stdout",
     "output_type": "stream",
     "text": [
      "Isso é uma string!\n"
     ]
    }
   ],
   "source": [
    "st = \"Isso é uma string!\"\n",
    "print(st)"
   ]
  },
  {
   "cell_type": "code",
   "execution_count": 36,
   "metadata": {},
   "outputs": [
    {
     "name": "stdout",
     "output_type": "stream",
     "text": [
      "I\n"
     ]
    }
   ],
   "source": [
    "print(st[0])"
   ]
  },
  {
   "cell_type": "code",
   "execution_count": 37,
   "metadata": {},
   "outputs": [
    {
     "data": {
      "text/plain": [
       "'Isso'"
      ]
     },
     "execution_count": 37,
     "metadata": {},
     "output_type": "execute_result"
    }
   ],
   "source": [
    "palavras = st.split(sep=' ')\n",
    "palavras[0]"
   ]
  },
  {
   "cell_type": "code",
   "execution_count": 39,
   "metadata": {},
   "outputs": [
    {
     "name": "stdout",
     "output_type": "stream",
     "text": [
      "6\n"
     ]
    }
   ],
   "source": [
    "print(len(ls))"
   ]
  },
  {
   "cell_type": "markdown",
   "metadata": {},
   "source": [
    "#### Slicing"
   ]
  },
  {
   "cell_type": "code",
   "execution_count": 45,
   "metadata": {},
   "outputs": [],
   "source": [
    "ls = [\"abc\", 34, 4, 6, 9.5]"
   ]
  },
  {
   "cell_type": "code",
   "execution_count": 46,
   "metadata": {},
   "outputs": [
    {
     "name": "stdout",
     "output_type": "stream",
     "text": [
      "['abc', 34]\n"
     ]
    }
   ],
   "source": [
    "print(ls[0:2])"
   ]
  },
  {
   "cell_type": "code",
   "execution_count": 47,
   "metadata": {},
   "outputs": [
    {
     "name": "stdout",
     "output_type": "stream",
     "text": [
      "['abc', 34, 4]\n"
     ]
    }
   ],
   "source": [
    "print(ls[:3])"
   ]
  },
  {
   "cell_type": "code",
   "execution_count": 48,
   "metadata": {},
   "outputs": [
    {
     "name": "stdout",
     "output_type": "stream",
     "text": [
      "[4, 6, 9.5]\n"
     ]
    }
   ],
   "source": [
    "print(ls[2:])"
   ]
  },
  {
   "cell_type": "code",
   "execution_count": 49,
   "metadata": {},
   "outputs": [
    {
     "name": "stdout",
     "output_type": "stream",
     "text": [
      "['abc', 34, 4, 6]\n"
     ]
    }
   ],
   "source": [
    "print(ls[:-1])"
   ]
  },
  {
   "cell_type": "code",
   "execution_count": 51,
   "metadata": {},
   "outputs": [
    {
     "name": "stdout",
     "output_type": "stream",
     "text": [
      "[9.5]\n"
     ]
    }
   ],
   "source": [
    "print(ls[-1:])"
   ]
  },
  {
   "cell_type": "markdown",
   "metadata": {},
   "source": [
    "### Operador in"
   ]
  },
  {
   "cell_type": "code",
   "execution_count": 53,
   "metadata": {},
   "outputs": [
    {
     "name": "stdout",
     "output_type": "stream",
     "text": [
      "True\n",
      "True\n"
     ]
    }
   ],
   "source": [
    "t = [1,2,3,4,5]\n",
    "print(3 in t)\n",
    "print(7 not in t)"
   ]
  },
  {
   "cell_type": "code",
   "execution_count": 54,
   "metadata": {},
   "outputs": [
    {
     "name": "stdout",
     "output_type": "stream",
     "text": [
      "True\n",
      "False\n",
      "True\n"
     ]
    }
   ],
   "source": [
    "s = \"abcde\"\n",
    "print('a' in s)\n",
    "print('ac' in s)\n",
    "print('abc' in s)"
   ]
  },
  {
   "cell_type": "markdown",
   "metadata": {},
   "source": [
    "### Dicionários"
   ]
  },
  {
   "cell_type": "code",
   "execution_count": 55,
   "metadata": {},
   "outputs": [],
   "source": [
    "d = {'Brasil': 1, \n",
    "     'Argentina': 2, \n",
    "     'Canada': 3}"
   ]
  },
  {
   "cell_type": "code",
   "execution_count": 56,
   "metadata": {},
   "outputs": [
    {
     "data": {
      "text/plain": [
       "1"
      ]
     },
     "execution_count": 56,
     "metadata": {},
     "output_type": "execute_result"
    }
   ],
   "source": [
    "d['Brasil']"
   ]
  },
  {
   "cell_type": "code",
   "execution_count": 60,
   "metadata": {},
   "outputs": [
    {
     "name": "stdout",
     "output_type": "stream",
     "text": [
      "True\n",
      "False\n",
      "True\n"
     ]
    }
   ],
   "source": [
    "print('Brasil' in d)\n",
    "print(1 in d)\n",
    "print(1 in d.values())"
   ]
  },
  {
   "cell_type": "code",
   "execution_count": 62,
   "metadata": {},
   "outputs": [],
   "source": [
    "veiculos = {\n",
    "    'AAA0A00': ['Carro', 'Fusca', 1978, 'Azul'],\n",
    "    'BBB1B11': ['Carro', 'Del-Rey', 1984, 'Dourado'],\n",
    "    'CCC2C22': ['Moto', 'Hayabusa', 2018, 'Preta']\n",
    "}"
   ]
  },
  {
   "cell_type": "code",
   "execution_count": 63,
   "metadata": {},
   "outputs": [
    {
     "data": {
      "text/plain": [
       "{'AAA0A00': ['Carro', 'Fusca', 1978, 'Azul'],\n",
       " 'BBB1B11': ['Carro', 'Del-Rey', 1984, 'Dourado'],\n",
       " 'CCC2C22': ['Moto', 'Hayabusa', 2018, 'Preta']}"
      ]
     },
     "execution_count": 63,
     "metadata": {},
     "output_type": "execute_result"
    }
   ],
   "source": [
    "veiculos"
   ]
  },
  {
   "cell_type": "code",
   "execution_count": 64,
   "metadata": {},
   "outputs": [
    {
     "data": {
      "text/plain": [
       "['Carro', 'Fusca', 1978, 'Azul']"
      ]
     },
     "execution_count": 64,
     "metadata": {},
     "output_type": "execute_result"
    }
   ],
   "source": [
    "veiculos['AAA0A00']"
   ]
  },
  {
   "cell_type": "code",
   "execution_count": 70,
   "metadata": {},
   "outputs": [],
   "source": [
    "#Inserção\n",
    "veiculos['DDD4D44'] = ['Moto', 'Factor CB500', 2001, 'Branca']"
   ]
  },
  {
   "cell_type": "code",
   "execution_count": 66,
   "metadata": {},
   "outputs": [
    {
     "data": {
      "text/plain": [
       "{'AAA0A00': ['Carro', 'Fusca', 1978, 'Azul'],\n",
       " 'BBB1B11': ['Carro', 'Del-Rey', 1984, 'Dourado'],\n",
       " 'CCC2C22': ['Moto', 'Hayabusa', 2018, 'Preta'],\n",
       " 'DDD4D44': ['Moto', 'Factor CB500', 2001, 'Branca']}"
      ]
     },
     "execution_count": 66,
     "metadata": {},
     "output_type": "execute_result"
    }
   ],
   "source": [
    "veiculos"
   ]
  },
  {
   "cell_type": "code",
   "execution_count": 68,
   "metadata": {},
   "outputs": [],
   "source": [
    "#Modificação\n",
    "veiculos['BBB1B11'] = ['Carro', 'Del-Rey', 1989, 'Bege']"
   ]
  },
  {
   "cell_type": "code",
   "execution_count": 72,
   "metadata": {},
   "outputs": [
    {
     "data": {
      "text/plain": [
       "{'AAA0A00': ['Carro', 'Fusca', 1978, 'Azul'],\n",
       " 'BBB1B11': ['Carro', 'Del-Rey', 1989, 'Bege'],\n",
       " 'CCC2C22': ['Moto', 'Hayabusa', 2018, 'Preta'],\n",
       " 'DDD4D44': ['Moto', 'Factor CB500', 2001, 'Branca']}"
      ]
     },
     "execution_count": 72,
     "metadata": {},
     "output_type": "execute_result"
    }
   ],
   "source": [
    "veiculos"
   ]
  },
  {
   "cell_type": "code",
   "execution_count": 74,
   "metadata": {},
   "outputs": [
    {
     "name": "stdout",
     "output_type": "stream",
     "text": [
      "dict_keys(['AAA0A00', 'BBB1B11', 'CCC2C22', 'DDD4D44'])\n",
      "dict_values([['Carro', 'Fusca', 1978, 'Azul'], ['Carro', 'Del-Rey', 1989, 'Bege'], ['Moto', 'Hayabusa', 2018, 'Preta'], ['Moto', 'Factor CB500', 2001, 'Branca']])\n",
      "dict_items([('AAA0A00', ['Carro', 'Fusca', 1978, 'Azul']), ('BBB1B11', ['Carro', 'Del-Rey', 1989, 'Bege']), ('CCC2C22', ['Moto', 'Hayabusa', 2018, 'Preta']), ('DDD4D44', ['Moto', 'Factor CB500', 2001, 'Branca'])])\n"
     ]
    }
   ],
   "source": [
    "#obter chaves\n",
    "print(veiculos.keys())\n",
    "\n",
    "#obter valores\n",
    "print(veiculos.values())\n",
    "\n",
    "#obter chave-valor\n",
    "print(veiculos.items())"
   ]
  },
  {
   "cell_type": "code",
   "execution_count": 75,
   "metadata": {},
   "outputs": [
    {
     "name": "stdout",
     "output_type": "stream",
     "text": [
      "AAA0A00\n",
      "BBB1B11\n",
      "CCC2C22\n",
      "DDD4D44\n"
     ]
    }
   ],
   "source": [
    "for key in veiculos.keys():\n",
    "    print(key)"
   ]
  },
  {
   "cell_type": "code",
   "execution_count": 77,
   "metadata": {},
   "outputs": [
    {
     "name": "stdout",
     "output_type": "stream",
     "text": [
      "['Carro', 'Fusca', 1978, 'Azul']\n",
      "['Carro', 'Del-Rey', 1989, 'Bege']\n",
      "['Moto', 'Hayabusa', 2018, 'Preta']\n",
      "['Moto', 'Factor CB500', 2001, 'Branca']\n"
     ]
    }
   ],
   "source": [
    "for valor in veiculos.values():\n",
    "    print(valor)"
   ]
  },
  {
   "cell_type": "code",
   "execution_count": 78,
   "metadata": {},
   "outputs": [
    {
     "name": "stdout",
     "output_type": "stream",
     "text": [
      "AAA0A00: ['Carro', 'Fusca', 1978, 'Azul']\n",
      "BBB1B11: ['Carro', 'Del-Rey', 1989, 'Bege']\n",
      "CCC2C22: ['Moto', 'Hayabusa', 2018, 'Preta']\n",
      "DDD4D44: ['Moto', 'Factor CB500', 2001, 'Branca']\n"
     ]
    }
   ],
   "source": [
    "for key, valor in veiculos.items():\n",
    "    print(f'{key}: {valor}')\n",
    "    "
   ]
  },
  {
   "cell_type": "code",
   "execution_count": null,
   "metadata": {},
   "outputs": [],
   "source": []
  },
  {
   "cell_type": "code",
   "execution_count": null,
   "metadata": {},
   "outputs": [],
   "source": []
  }
 ],
 "metadata": {
  "kernelspec": {
   "display_name": "Python 3",
   "language": "python",
   "name": "python3"
  },
  "language_info": {
   "codemirror_mode": {
    "name": "ipython",
    "version": 3
   },
   "file_extension": ".py",
   "mimetype": "text/x-python",
   "name": "python",
   "nbconvert_exporter": "python",
   "pygments_lexer": "ipython3",
   "version": "3.11.5"
  }
 },
 "nbformat": 4,
 "nbformat_minor": 2
}
