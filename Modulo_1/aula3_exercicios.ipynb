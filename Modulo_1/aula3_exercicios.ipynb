{
 "cells": [
  {
   "cell_type": "markdown",
   "metadata": {},
   "source": [
    "# Exercicios - Aula 3"
   ]
  },
  {
   "cell_type": "markdown",
   "metadata": {},
   "source": [
    "## Exercicio 2.1"
   ]
  },
  {
   "cell_type": "code",
   "execution_count": 3,
   "metadata": {},
   "outputs": [],
   "source": [
    "def cria_lista(tamanho, passo):\n",
    "    return [round(i*passo,5) for i in range(0,tamanho+1)]"
   ]
  },
  {
   "cell_type": "code",
   "execution_count": 4,
   "metadata": {},
   "outputs": [
    {
     "name": "stdout",
     "output_type": "stream",
     "text": [
      "[0.0, 0.05, 0.1, 0.15, 0.2, 0.25, 0.3, 0.35, 0.4]\n"
     ]
    }
   ],
   "source": [
    "print(cria_lista(8,0.05))"
   ]
  },
  {
   "cell_type": "markdown",
   "metadata": {},
   "source": [
    "## Exercicio 2.2"
   ]
  },
  {
   "cell_type": "code",
   "execution_count": 9,
   "metadata": {},
   "outputs": [
    {
     "name": "stdout",
     "output_type": "stream",
     "text": [
      "[4451, 8663, 7524, 2171, 7868, 6290, 6882, 7696, 4579, 6189]\n",
      "[8.400884069015854, 9.06681636189014, 8.925853190420922, 7.682943169878292, 8.97055917950895, 8.746716349694486, 8.836664586357426, 8.948455992345542, 8.429235912657095, 8.73052880173936]\n"
     ]
    }
   ],
   "source": [
    "import math\n",
    "import random as rd\n",
    "\n",
    "nums = [rd.randint(0,10000) for _ in range(0,10)]\n",
    "logs = [math.log(num) if num!=0 else math.nan for num in nums]\n",
    "print(nums)\n",
    "print(logs)"
   ]
  }
 ],
 "metadata": {
  "kernelspec": {
   "display_name": "Python 3",
   "language": "python",
   "name": "python3"
  },
  "language_info": {
   "codemirror_mode": {
    "name": "ipython",
    "version": 3
   },
   "file_extension": ".py",
   "mimetype": "text/x-python",
   "name": "python",
   "nbconvert_exporter": "python",
   "pygments_lexer": "ipython3",
   "version": "3.11.5"
  }
 },
 "nbformat": 4,
 "nbformat_minor": 2
}
