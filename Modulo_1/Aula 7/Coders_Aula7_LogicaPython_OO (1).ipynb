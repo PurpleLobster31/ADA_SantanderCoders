{
 "cells": [
  {
   "cell_type": "markdown",
   "metadata": {
    "id": "-ZWWXg-hkWk2"
   },
   "source": [
    "# <font color=\"red\"> Santander Coders</font>\n",
    "## <span style=\"color:red\">Lógica de Programação II (Python)</span>\n",
    "\n",
    "*Maurício Luiz Sobrinho*<br>\n",
    "**Adatech**"
   ]
  },
  {
   "cell_type": "markdown",
   "metadata": {
    "id": "2hNnzpWfkWk7"
   },
   "source": [
    "---\n",
    "__Conteúdos:__\n",
    "- Noções básicas de classes e objetos\n",
    "- Classe e objeto\n",
    "- Herança\n",
    "- Sobrecarga de métodos\n",
    "- Atributos públicos e privados em python\n",
    "\n",
    "__Referências:__\n",
    "- Mark Lutz, Learning Python, O'Reilly, 2013\n",
    "- Eric Matthes, Python Crash Course: A Hands-On, Project-Based Introduction to Programming, No Starch Press, 2015"
   ]
  },
  {
   "cell_type": "markdown",
   "metadata": {
    "id": "wENFWsH9kWlH"
   },
   "source": [
    "---\n",
    "## Programação Orientada a Objeto\n",
    "Programação orientada a objetos abrange um universo amplo de conceitos, técnicas e ferramentas que vão muito além do escopo proposto neste módulo. O objetivo da apresentação a seguir é introduzir noções básicas de programação orientada a objetos para que se possa fazer uso de tal recurso com certa segurança e desenvoltura."
   ]
  },
  {
   "cell_type": "markdown",
   "metadata": {
    "id": "KiQ0WJijkWlH"
   },
   "source": [
    "Programação orientada a objetos envolve três conceitos principais:\n",
    "- Objetos\n",
    "- Classes\n",
    "- Herança"
   ]
  },
  {
   "cell_type": "markdown",
   "metadata": {
    "id": "y09WacIokWlH"
   },
   "source": [
    "### Objetos\n",
    "Um __objeto__ agrega dois conceitos:\n",
    "- Estado\n",
    "- Comportamento\n",
    "\n",
    "\n",
    "_Estado_ diz respeio às informações salvas nos _atributos_ do objeto\n",
    "<br><br>\n",
    "_Comportamento_ é manifestado através de métodos (funções) associadas ao objeto\n",
    "\n",
    "Várias linguagens de programação escondem estados internamente na classe e os fazem acessíveis apenas através de métodos<br>\n",
    "\n",
    "Python não faz isso. Tudo é exposto!!"
   ]
  },
  {
   "cell_type": "markdown",
   "metadata": {
    "id": "c1brg62-kWlH"
   },
   "source": [
    "### Classes\n",
    "Uma __classe__ é um protótipo para criar um objeto. Quando um objeto é criado a partir de um protótipo, diz-se que ele foi instanciado.\n",
    "\n",
    "Em termos de programação, uma classe especifica os atributos e métodos do objeto, que pode ser instanciado tantas vezes quanto necessário."
   ]
  },
  {
   "cell_type": "markdown",
   "metadata": {
    "id": "JKeepSJikWlI"
   },
   "source": [
    "### Herança\n",
    "Classes são capazes de herdar estados e comportamentos de outras classes.<br>\n",
    "Uma classe que herda de outra classe é chamada subclasse. <br>\n",
    "Uma classe que é herdada por outra é chamada de superclasse ou classe base.\n"
   ]
  },
  {
   "cell_type": "markdown",
   "metadata": {
    "id": "z_Wmai7akWlI"
   },
   "source": [
    "---\n",
    "## Classes em Python\n",
    "A sintaxe para se criar uma classe em Python é a seguinte:\n",
    "```python\n",
    "class nome_da_classe(superclass,...)\n",
    "      attributo1 = valor1      # atributos da classe\n",
    "      attributo2 = valor2\n",
    "      :\n",
    "      :\n",
    "      def __init__(self,...):  # construtor da classe\n",
    "         … default code …\n",
    "            \n",
    "      def methodo1(self,...):  # métodos da classe\n",
    "         self.attribute1 = value\n",
    "```    \n",
    "Um _atributo da classe_ é uma variável que é acessível por qualquer instância da classe.<br>\n",
    "Um _atributo de uma instância_ só é acessível pela instância que o criou (como uma variável local).\n",
    "\n",
    "Um _metodo da classe_ é uma função que pode acessar os atributos da classe diretamente, além de receber parâmetros externos.\n",
    "\n",
    "Existem métodos especiais que realizam operações específicas, como o método `__init__` que é invocado toda vez que um objeto da classe é instanciado. Uma descrição dos métodos especiais pode ser encontrada [neste link](https://www.tutorialspoint.com/python/python_classes_objects.htm)."
   ]
  },
  {
   "cell_type": "markdown",
   "metadata": {
    "id": "wVviiAi-kWlI"
   },
   "source": [
    "#### Exemplo de uma classe\n",
    "O exemplo a seguir define uma classe chamada `bicycle`. Esta classe possui três métodos:\n",
    "- `__init__` (método especial pré-definido) que é o construtor da classe\n",
    "- `__str__` (método especial pré-definido) que gera a string que será apresentada toda vez que o comando <font color='blue'>print</font> for aplicado a uma instância da classe\n",
    "- `get_handlebar_options` que retorna o conteúdo de um dos atributos.\n",
    "\n",
    "A classe `bicycle` também possui os atributos:\n",
    "- bicycle_type    \n",
    "- number_of_gears\n",
    "- handlebar_type\n",
    "- handle_options\n",
    "\n",
    "Quando um objeto da classe `bicycle` é instanciado, o construtor `__init__` é invocado para inicializar os atributos. O construtor admite três parâmetros que podem ser especificados durante a instanciação do objeto, assumindo valores \"default\" quando não são especificados.\n",
    "\n",
    "O parâmetro `self` é sempre mandatório, pois é por meio dele que se distingue um atributo ou método da classe de uma variável local ou função externa."
   ]
  },
  {
   "cell_type": "code",
   "execution_count": 1,
   "metadata": {
    "id": "YStLhEIjkWlI"
   },
   "outputs": [],
   "source": [
    "class bicycle():\n",
    "    def __init__(self,bike_type = None,n_gears = 1,handlebar = 'Drop'):\n",
    "        print(\"...building the object...\")\n",
    "        self.bicycle_type = bike_type\n",
    "        self.number_of_gears = n_gears\n",
    "        self.handlebar_type = handlebar\n",
    "        self.handle_options = ['Drop','Cruiser','Flat','Bullhorn']\n",
    "    \n",
    "    def get_handlebar_options(self,k=4):\n",
    "        print(self.handle_options[:k])\n",
    "        \n",
    "    def __str__(self):\n",
    "        return('Type: '+str(self.bicycle_type)+'\\n'\n",
    "               'Gears: '+str(self.number_of_gears)+'\\n'\n",
    "               'Handle: '+str(self.handlebar_type))"
   ]
  },
  {
   "cell_type": "code",
   "execution_count": 2,
   "metadata": {
    "id": "7T7A9U6qkWlI",
    "outputId": "3a521585-4433-4072-e339-c8c10fa39fe5"
   },
   "outputs": [
    {
     "name": "stdout",
     "output_type": "stream",
     "text": [
      "...building the object...\n",
      "['Drop', 'Cruiser', 'Flat', 'Bullhorn']\n",
      "['Drop', 'Cruiser']\n",
      "...building the object...\n",
      "Type: Cruise\n",
      "Gears: 3\n",
      "Handle: Drop\n",
      "------\n",
      "Type: Speed\n",
      "Gears: 1\n",
      "Handle: Bullhorn\n"
     ]
    }
   ],
   "source": [
    "my_bike = bicycle() # um objeto da classe bicycle é instanciado\n",
    "\n",
    "my_bike.bicycle_type = 'Cruise' # acessando variável 'bicycle_type' e atribuindo o valor 'Cruise' dela\n",
    "my_bike.number_of_gears = 3     # acessando variável 'number_of_gears' e atribuindo o valor 3 dela\n",
    "\n",
    "my_bike.get_handlebar_options() # acessando o método 'get_handlebar_options' que imprime as opções de guidão\n",
    "my_bike.get_handlebar_options(2)# acessando o método 'get_handlebar_options' porém fazendo k=2, o que \n",
    "                                # resulta na impressão das duas primeiras opções de guidão\n",
    "\n",
    "thy_bike = bicycle(bike_type='Speed',handlebar='Bullhorn') # instanciando outro objeto da classe \n",
    "                                                           # enviando parâmetros para o construtor\n",
    "\n",
    "print(my_bike) # o comando print automaticamente invoca o método `__repr__`, \n",
    "                # que gera a string que será apresentada pelo print\n",
    " \n",
    "print(3*'--')\n",
    "print(thy_bike)"
   ]
  },
  {
   "cell_type": "markdown",
   "metadata": {
    "id": "g1D9bsBSkWlI"
   },
   "source": [
    "#### Exemplo de herança\n",
    "Pode-se derivar uma subclasse de uma classe pré-definida (_superclasse_). Todos os atributos e métodos da _superclasse_ são automaticamente herdados pela classe derivada. A sintaxe é simplesmente:\n",
    "```python\n",
    "class nome_da_subclasse(nome_da_superclasse):\n",
    "```"
   ]
  },
  {
   "cell_type": "code",
   "execution_count": 3,
   "metadata": {
    "id": "_iXXxyPDkWlI"
   },
   "outputs": [],
   "source": [
    "class mountain_bike(bicycle): # a subclasse mountain_bike herda todos os\n",
    "                              # atibutos e métodos da superclasse bicycle \n",
    "        \n",
    "    def __init__(self):  # o construtor da subclasse chama o construtor da superclasse\n",
    "                         # com parametros desejados\n",
    "        bicycle.__init__(self,bike_type='Mountain',n_gears = 10,handlebar='Bullhorn')\n",
    "        self.set_handlebar_options() # o método set_handlebar_options não existe na \n",
    "                                     # superclasse bicycle, é definido somente na subclasse\n",
    "        \n",
    "    def set_handlebar_options(self): # método da subclasse \n",
    "        self.handle_options.remove('Cruiser')"
   ]
  },
  {
   "cell_type": "code",
   "execution_count": 4,
   "metadata": {
    "id": "x614OkVMkWlJ"
   },
   "outputs": [
    {
     "name": "stdout",
     "output_type": "stream",
     "text": [
      "...building the object...\n",
      "['Drop', 'Flat', 'Bullhorn']\n",
      "Type: Mountain\n",
      "Gears: 10\n",
      "Handle: Bullhorn\n"
     ]
    }
   ],
   "source": [
    "my_mountain_bike = mountain_bike()  # instancia um objeto mountain_bike\n",
    "my_mountain_bike.get_handlebar_options() # imprime os modelos de guidão para mountain_bike\n",
    "\n",
    "print(my_mountain_bike)"
   ]
  },
  {
   "cell_type": "markdown",
   "metadata": {
    "id": "VelFwi6ckWlJ"
   },
   "source": [
    "### Sobrecarga de operador (Operator Overloading)\n",
    "Classes podem interceptar operadores especiais e sobrescrevê-los. Tais métodos são definidos por um duplo underscore. Exemplos de operadores especiais são:\n",
    "\n",
    "- <font color='blue'>\\_\\_init\\_\\_</font> construtor do objeto\n",
    "- <font color='blue'>\\_\\_repr\\_\\_</font> método que gera uma representação da classe\n",
    "- <font color='blue'>\\_\\_add\\_\\_</font> método que define a operação de soma <font color='blue'>+</font>\n",
    "- <font color='blue'>\\_\\_lt\\_\\_</font>, <font color='blue'>\\_\\_gt\\_\\_</font>, para comparações X < Y, X > Y\n",
    "- e outras..."
   ]
  },
  {
   "cell_type": "code",
   "execution_count": 5,
   "metadata": {
    "id": "GhxtAB6kkWlJ"
   },
   "outputs": [],
   "source": [
    "class pessoa():\n",
    "    def __init__(self,nome = '', sobrenome = '', idade = 0):\n",
    "        self.nome = nome\n",
    "        self.sobrenome = sobrenome\n",
    "        self.idade = idade\n",
    "        \n",
    "    def __lt__(self,p):  # operador '<'\n",
    "        return(self.idade < p.idade)  # retorna True se a idade da instancia da classe for menor\n",
    "    \n",
    "    def __gt__(self,p):  # operador '>'\n",
    "        return(self.idade > p.idade)"
   ]
  },
  {
   "cell_type": "code",
   "execution_count": 6,
   "metadata": {
    "colab": {
     "base_uri": "https://localhost:8080/"
    },
    "executionInfo": {
     "elapsed": 1860,
     "status": "ok",
     "timestamp": 1612814580792,
     "user": {
      "displayName": "Edesio Alcobaça",
      "photoUrl": "https://lh3.googleusercontent.com/a-/AOh14GhybDI1qzP3W03EYKTP89NWEXxwNg5z5OM5L6kdTg=s64",
      "userId": "10422480453975814446"
     },
     "user_tz": 180
    },
    "id": "2Xpm346bkWlJ",
    "outputId": "03af7ec5-5d58-4cfd-e19f-fef6ce148a5f"
   },
   "outputs": [
    {
     "name": "stdout",
     "output_type": "stream",
     "text": [
      "gustavo  eh mais novo que  francisco\n",
      "francisco  NAO eh mais novo que  gustavo\n"
     ]
    }
   ],
   "source": [
    "p1 = pessoa(nome='gustavo',sobrenome='nonato',idade=50)    # instancia um objeto 'pessoa'\n",
    "p2 = pessoa(nome='francisco',sobrenome='louzada',idade=52) # instancia outro objeto 'pessoa'\n",
    "\n",
    "if p1 < p2:\n",
    "    print(p1.nome, ' eh mais novo que ',p2.nome)\n",
    "else:\n",
    "    print(p1.nome, ' nao eh mais novo que ',p2.nome)\n",
    "    \n",
    "if p2 < p1:\n",
    "    print(p2.nome, ' eh mais novo que ',p1.nome)\n",
    "else:\n",
    "    print(p2.nome, ' NAO eh mais novo que ',p1.nome)"
   ]
  },
  {
   "cell_type": "markdown",
   "metadata": {
    "id": "Uz_H8HF7kWlJ"
   },
   "source": [
    "### Atributos públicos e privados\n",
    "Embora todos os atributos e métodos em Python são expostos, há uma convenção de que tudo precedido por dois underscores é privado.\n",
    "- \\_\\_minha_funcao\t \t\n",
    "- \\_\\_minha_variavel\n",
    "\n",
    "Não se deve acessar externamente métodos e atributos definidos por underscore duplo\n",
    "\n",
    "Tudo precedido com um underscore simples é semi-privado, e você deve evitar acessar esse dado diretamente (externamente a classe)\n",
    "- \\_b"
   ]
  }
 ],
 "metadata": {
  "colab": {
   "collapsed_sections": [],
   "name": "Python III.ipynb",
   "provenance": []
  },
  "kernelspec": {
   "display_name": "Python 3",
   "language": "python",
   "name": "python3"
  },
  "language_info": {
   "codemirror_mode": {
    "name": "ipython",
    "version": 3
   },
   "file_extension": ".py",
   "mimetype": "text/x-python",
   "name": "python",
   "nbconvert_exporter": "python",
   "pygments_lexer": "ipython3",
   "version": "3.11.5"
  },
  "toc": {
   "base_numbering": 1,
   "nav_menu": {},
   "number_sections": true,
   "sideBar": true,
   "skip_h1_title": false,
   "title_cell": "Table of Contents",
   "title_sidebar": "Contents",
   "toc_cell": false,
   "toc_position": {},
   "toc_section_display": true,
   "toc_window_display": false
  }
 },
 "nbformat": 4,
 "nbformat_minor": 1
}
