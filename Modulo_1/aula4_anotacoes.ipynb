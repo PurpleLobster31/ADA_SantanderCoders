{
 "cells": [
  {
   "cell_type": "markdown",
   "metadata": {},
   "source": [
    "# Funções Lambda"
   ]
  },
  {
   "cell_type": "markdown",
   "metadata": {},
   "source": [
    "São funções que podem ser invocadas, mas que não possuem nome.\n",
    "\n",
    "Estrutura:\n",
    "```\n",
    "    lambda <arg1>, <arg2>, ..., <argn>: <expressao>\n",
    "```"
   ]
  },
  {
   "cell_type": "code",
   "execution_count": 1,
   "metadata": {},
   "outputs": [
    {
     "name": "stdout",
     "output_type": "stream",
     "text": [
      "36\n",
      "36\n"
     ]
    }
   ],
   "source": [
    "#Funcao normal:\n",
    "def quadrado(num):\n",
    "    return num**2\n",
    "\n",
    "print(quadrado(6))\n",
    "\n",
    "#lambda:\n",
    "quad_lam = lambda num: num**2\n",
    "\n",
    "print(quad_lam(6))"
   ]
  },
  {
   "cell_type": "code",
   "execution_count": 10,
   "metadata": {},
   "outputs": [
    {
     "name": "stdout",
     "output_type": "stream",
     "text": [
      "10 even\n"
     ]
    }
   ],
   "source": [
    "even_odd = lambda x: 'even' if x%2==0 else 'odd'\n",
    "print(10, even_odd(10))"
   ]
  },
  {
   "cell_type": "code",
   "execution_count": 11,
   "metadata": {},
   "outputs": [],
   "source": [
    "list_num=[1,2,5,7,3,8,21,33,45,44,80]"
   ]
  },
  {
   "cell_type": "code",
   "execution_count": 12,
   "metadata": {},
   "outputs": [
    {
     "name": "stdout",
     "output_type": "stream",
     "text": [
      "['odd', 'even', 'odd', 'odd', 'odd', 'even', 'odd', 'odd', 'odd', 'even', 'even']\n"
     ]
    }
   ],
   "source": [
    "odd_or_even_list = [even_odd(i) for i in list_num]\n",
    "print(odd_or_even_list)"
   ]
  },
  {
   "cell_type": "markdown",
   "metadata": {},
   "source": [
    "Lambdas são ótimos para ordenação de strings."
   ]
  },
  {
   "cell_type": "code",
   "execution_count": 16,
   "metadata": {},
   "outputs": [],
   "source": [
    "cientistas = ['Ada Lovelace', 'Von Neumann', 'Betty Holberton', 'Dennis Ritchie', 'Alan Turing']"
   ]
  },
  {
   "cell_type": "code",
   "execution_count": 18,
   "metadata": {},
   "outputs": [
    {
     "name": "stdout",
     "output_type": "stream",
     "text": [
      "lovelace\n"
     ]
    }
   ],
   "source": [
    "print(cientistas[0].split()[-1].lower())"
   ]
  },
  {
   "cell_type": "code",
   "execution_count": 19,
   "metadata": {},
   "outputs": [
    {
     "name": "stdout",
     "output_type": "stream",
     "text": [
      "['Betty Holberton', 'Ada Lovelace', 'Von Neumann', 'Dennis Ritchie', 'Alan Turing']\n"
     ]
    }
   ],
   "source": [
    "cientistas.sort(key = lambda nome: nome.split()[-1].lower())\n",
    "print(cientistas)"
   ]
  },
  {
   "cell_type": "markdown",
   "metadata": {},
   "source": [
    "# Programação Funcional"
   ]
  },
  {
   "cell_type": "code",
   "execution_count": null,
   "metadata": {},
   "outputs": [],
   "source": []
  },
  {
   "cell_type": "code",
   "execution_count": null,
   "metadata": {},
   "outputs": [],
   "source": []
  },
  {
   "cell_type": "code",
   "execution_count": null,
   "metadata": {},
   "outputs": [],
   "source": []
  },
  {
   "cell_type": "code",
   "execution_count": null,
   "metadata": {},
   "outputs": [],
   "source": []
  }
 ],
 "metadata": {
  "kernelspec": {
   "display_name": "Python 3",
   "language": "python",
   "name": "python3"
  },
  "language_info": {
   "codemirror_mode": {
    "name": "ipython",
    "version": 3
   },
   "file_extension": ".py",
   "mimetype": "text/x-python",
   "name": "python",
   "nbconvert_exporter": "python",
   "pygments_lexer": "ipython3",
   "version": "3.11.5"
  }
 },
 "nbformat": 4,
 "nbformat_minor": 2
}
